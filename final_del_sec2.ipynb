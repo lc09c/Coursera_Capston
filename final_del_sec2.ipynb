{
 "cells": [
  {
   "cell_type": "markdown",
   "metadata": {},
   "source": [
    "# <div class=\"MathJax_Display\" style=\"text-align: center;\">Open a new restaurant in Brooklyn: where and which kind of restaurant?</div>"
   ]
  },
  {
   "cell_type": "markdown",
   "metadata": {},
   "source": [
    "<div class=\"MathJax_Display\" style=\"text-align: center;\">Author names and affiliation</div>"
   ]
  },
  {
   "cell_type": "markdown",
   "metadata": {},
   "source": [
    "<div class=\"MathJax_Display\" style=\"text-align: center;\">Pubblisher (if any)</div>"
   ]
  },
  {
   "cell_type": "markdown",
   "metadata": {},
   "source": [
    "<div class=\"MathJax_Display\" style=\"text-align: center;\">10/12/2018</div>"
   ]
  },
  {
   "cell_type": "markdown",
   "metadata": {},
   "source": [
    "  "
   ]
  },
  {
   "cell_type": "markdown",
   "metadata": {},
   "source": [
    "__Abstract.__ In this report we will present..."
   ]
  },
  {
   "cell_type": "markdown",
   "metadata": {},
   "source": [
    " "
   ]
  },
  {
   "cell_type": "markdown",
   "metadata": {},
   "source": [
    "### Table of content"
   ]
  },
  {
   "cell_type": "markdown",
   "metadata": {},
   "source": [
    "1. Introduction\n"
   ]
  },
  {
   "cell_type": "markdown",
   "metadata": {},
   "source": [
    " "
   ]
  },
  {
   "cell_type": "markdown",
   "metadata": {},
   "source": [
    "### Introduction"
   ]
  },
  {
   "cell_type": "markdown",
   "metadata": {},
   "source": [
    "In this report we will describe a very simple analysis of the restaurants distribution in the Brooklyn borough of New York city. The analysis will be perfomed using only freely availabe data available in the Web. The results obtainend doing this analysis may be interesting for all restaurateurs that whant to start a new restaurant in Brooklyn but they do not now in which neighborhood and which kind of restaurant open. A very stron point of this analysis is that it is bases on resources that can be used without pay any fee."
   ]
  },
  {
   "cell_type": "markdown",
   "metadata": {},
   "source": [
    " "
   ]
  },
  {
   "cell_type": "markdown",
   "metadata": {},
   "source": [
    "### Data sources"
   ]
  },
  {
   "cell_type": "markdown",
   "metadata": {},
   "source": [
    "For this work we use only online freely available data. Two are the sources of the data used:\n",
    "\n",
    "1. NYC Open data: It is a database containing demographic data of the city of New York divided by borough and neighborhood. It is possible to export the data as a 'comma separated values' file [1]. This database is important for our analysis because it contains specific information on the population living in a neighborhood (or in cluster of neighborhoods).\n",
    "\n",
    "3. GeoPy library: Once that we have the database containing the demographic information about Brooklyn, we need to find the coordinates of each neighborhood. The NYC Open data database unfortunately does not provide these information. We can remedy to this problem using the Python library GeoPy [3].\n",
    "\n",
    "2. Foursquare: It is a database containing information on the various economic activities present in a given area [2]. We use it to retrieve the necessary information on restaurants and neighborhoods.\n"
   ]
  },
  {
   "cell_type": "code",
   "execution_count": null,
   "metadata": {},
   "outputs": [],
   "source": []
  },
  {
   "cell_type": "code",
   "execution_count": null,
   "metadata": {},
   "outputs": [],
   "source": []
  },
  {
   "cell_type": "code",
   "execution_count": null,
   "metadata": {},
   "outputs": [],
   "source": []
  },
  {
   "cell_type": "markdown",
   "metadata": {},
   "source": [
    "### References"
   ]
  },
  {
   "cell_type": "markdown",
   "metadata": {},
   "source": [
    "[1] https://data.cityofnewyork.us/City-Government/New-York-City-Population-By-Neighborhood-Tabulatio/swpk-hqdp/data\n",
    "\n",
    "[2] https://developer.foursquare.com/\n",
    "\n",
    "[3] https://geopy.readthedocs.io/en/stable/\n"
   ]
  },
  {
   "cell_type": "code",
   "execution_count": null,
   "metadata": {},
   "outputs": [],
   "source": []
  }
 ],
 "metadata": {
  "kernelspec": {
   "display_name": "Python 3",
   "language": "python",
   "name": "python3"
  },
  "language_info": {
   "codemirror_mode": {
    "name": "ipython",
    "version": 3
   },
   "file_extension": ".py",
   "mimetype": "text/x-python",
   "name": "python",
   "nbconvert_exporter": "python",
   "pygments_lexer": "ipython3",
   "version": "3.6.5"
  }
 },
 "nbformat": 4,
 "nbformat_minor": 2
}
