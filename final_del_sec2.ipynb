{
 "cells": [
  {
   "cell_type": "markdown",
   "metadata": {},
   "source": [
    "# <div class=\"MathJax_Display\" style=\"text-align: center;\">Open a new restaurant in Brooklyn: where and which kind of restaurant?</div>"
   ]
  },
  {
   "cell_type": "markdown",
   "metadata": {},
   "source": [
    "<div class=\"MathJax_Display\" style=\"text-align: center;\">Author names and affiliation</div>"
   ]
  },
  {
   "cell_type": "markdown",
   "metadata": {},
   "source": [
    "<div class=\"MathJax_Display\" style=\"text-align: center;\">Pubblisher (if any)</div>"
   ]
  },
  {
   "cell_type": "markdown",
   "metadata": {},
   "source": [
    "<div class=\"MathJax_Display\" style=\"text-align: center;\">10/12/2018</div>"
   ]
  },
  {
   "cell_type": "markdown",
   "metadata": {},
   "source": [
    "  "
   ]
  },
  {
   "cell_type": "markdown",
   "metadata": {},
   "source": [
    "__Abstract.__ In this report we will present..."
   ]
  },
  {
   "cell_type": "markdown",
   "metadata": {},
   "source": [
    " "
   ]
  },
  {
   "cell_type": "markdown",
   "metadata": {},
   "source": [
    "### Table of content"
   ]
  },
  {
   "cell_type": "markdown",
   "metadata": {},
   "source": [
    "1. Introduction\n",
    "2. Data sources"
   ]
  },
  {
   "cell_type": "markdown",
   "metadata": {},
   "source": [
    " "
   ]
  },
  {
   "cell_type": "markdown",
   "metadata": {},
   "source": [
    "### Introduction"
   ]
  },
  {
   "cell_type": "markdown",
   "metadata": {},
   "source": [
    "In this report we will describe a very simple analysis of the restaurants distribution in the Brooklyn borough of New York city. The analysis will be performed using only freely available data available in the Web. The results obtained doing this analysis may be interesting for all restaurateurs that want to start a new restaurant in Brooklyn but they do not now in which neighborhood and which kind of restaurant open. A very strong point of this analysis is that it is bases on resources that can be used without pay any fee."
   ]
  },
  {
   "cell_type": "markdown",
   "metadata": {},
   "source": [
    " "
   ]
  },
  {
   "cell_type": "markdown",
   "metadata": {},
   "source": [
    "### Data sources"
   ]
  },
  {
   "cell_type": "markdown",
   "metadata": {},
   "source": [
    "For this work we use only online freely available data. Two are the sources of the data used:\n",
    "\n",
    "1. NYC Open data: It is a database containing demographic data of the city of New York divided by borough and neighborhood. It is possible to export the data as a 'comma separated values' file [1]. This database is important for our analysis because it contains specific information on the population living in a neighborhood (or in cluster of neighborhoods).\n",
    "\n",
    "2. GeoPy library: Once that we have the database containing the demographic information about Brooklyn, we need to find the coordinates of each neighborhood. The NYC Open data database unfortunately does not provide these information. We can remedy to this problem using the Python library GeoPy [3].\n",
    "\n",
    "3. Foursquare: It is a database containing information on the various economic activities present in a given area [2]. We use it to retrieve the necessary information on restaurants and neighborhoods.\n",
    "\n",
    "The data will be used in the following way. From the NYC Open data, we extract the data associated to the population living in a given neighborhood. Then we use GeoPy to add the coordinates of each neighborhoods to the data frame. The neighborhood coordinates will be used to retrieve information from Foursquare. The kind of information retrieved are two:\n",
    "\n",
    "- Information on the kind of restaurants already open in a given neighborhood\n",
    "- Information on the kind of economic activities present in a given neighborhood\n",
    "\n",
    "We will use the last information to estimate how much a given neighborhood is 'commercial' or 'residential' since the these two categories differs from the kind of economic activities opened. This information will be useful during the final stage of the analysis where we will recommend certain neighborhoods. The information regarding the kind of restaurant already open in a given neighborhood, would give to the restaurateurs information of the level of competition for each kind of restaurant.\n",
    "Finally using these data we can compute the 'restaurant concentration' in a given neighborhood and the 'fraction of population' (with respect to the total Brooklyn population) living in each neighborhood. These information will be used to find the best Brooklyn neighborhoods as the ones having a sufficiently low 'restaurant concentration' but a quite high 'fraction of population' living in, since the population living in a given neighborhood can be considered as potential ."
   ]
  },
  {
   "cell_type": "code",
   "execution_count": null,
   "metadata": {},
   "outputs": [],
   "source": []
  },
  {
   "cell_type": "code",
   "execution_count": null,
   "metadata": {},
   "outputs": [],
   "source": []
  },
  {
   "cell_type": "code",
   "execution_count": null,
   "metadata": {},
   "outputs": [],
   "source": []
  },
  {
   "cell_type": "markdown",
   "metadata": {},
   "source": [
    "### References"
   ]
  },
  {
   "cell_type": "markdown",
   "metadata": {},
   "source": [
    "[1] https://data.cityofnewyork.us/City-Government/New-York-City-Population-By-Neighborhood-Tabulatio/swpk-hqdp/data\n",
    "\n",
    "[2] https://developer.foursquare.com/\n",
    "\n",
    "[3] https://geopy.readthedocs.io/en/stable/\n"
   ]
  },
  {
   "cell_type": "code",
   "execution_count": null,
   "metadata": {},
   "outputs": [],
   "source": []
  }
 ],
 "metadata": {
  "kernelspec": {
   "display_name": "Python 3",
   "language": "python",
   "name": "python3"
  },
  "language_info": {
   "codemirror_mode": {
    "name": "ipython",
    "version": 3
   },
   "file_extension": ".py",
   "mimetype": "text/x-python",
   "name": "python",
   "nbconvert_exporter": "python",
   "pygments_lexer": "ipython3",
   "version": "3.6.5"
  }
 },
 "nbformat": 4,
 "nbformat_minor": 2
}
