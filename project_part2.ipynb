{
 "cells": [
  {
   "cell_type": "markdown",
   "metadata": {},
   "source": [
    "# Segmenting and Clustering Neighborhoods in Toronto"
   ]
  },
  {
   "cell_type": "markdown",
   "metadata": {},
   "source": [
    "##### Index of the notebook.\n",
    "1. _Information retrival from wikipedia and storing into database,_\n",
    "2. _Add neighbourhood latitude and longitude to the database,_\n",
    "3. _Explore and cluster the neighborhoods in Toronto._"
   ]
  },
  {
   "cell_type": "markdown",
   "metadata": {},
   "source": [
    "#### 1. Information retrival from Wikipedia and storing into database"
   ]
  },
  {
   "cell_type": "code",
   "execution_count": null,
   "metadata": {},
   "outputs": [],
   "source": [
    "import requests as req\n",
    "from bs4 import BeautifulSoup\n",
    "import pandas as pd\n",
    "import numpy as np\n",
    "\n",
    "# Retrive the HTML code and create a BeautifulSoup object.\n",
    "wiki_url = 'https://en.wikipedia.org/wiki/List_of_postal_codes_of_Canada:_M'\n",
    "wiki_page = str(req.get(wiki_url).text)\n",
    "soup=BeautifulSoup(wiki_page,'html.parser')\n",
    "\n",
    "# Create a list with the informations contained in the table.\n",
    "tag=soup.table\n",
    "text=tag.get_text()\n",
    "tmp_list=text.split('\\n')\n",
    "tmp_list2=tmp_list[1:-1]\n",
    "new_list=[]\n",
    "#print(tmp_list2) # uncomment to understand the for-cycle.\n",
    "\n",
    "for i in range(0,len(tmp_list2),5):\n",
    "    new_list.append([tmp_list2[i+1],tmp_list2[i+2],tmp_list2[i+3]])\n",
    "\n",
    "\n",
    "# Create the database.\n",
    "df_tor=pd.DataFrame(new_list[1:])\n",
    "df_tor.columns=new_list[0]\n",
    "df_tor.drop(df_tor[df_tor.Borough == 'Not assigned'].index, inplace=True) # Drop row with 'Borough' == 'Not assigned'.\n",
    "df_tor.loc[df_tor['Neighbourhood'] == 'Not assigned', 'Neighbourhood'] = df_tor.loc[df_tor['Neighbourhood'] == 'Not assigned', 'Borough']       # Replace when 'Neighbourhood' == 'Not assigne' with the 'Borough' name.        \n",
    "df_tor.reset_index(drop=True,inplace=True) # Reset index to 0 after dropping row.\n",
    "\n",
    "df_tor.head(20) #uncomment to see the first 20 row of the database"
   ]
  },
  {
   "cell_type": "markdown",
   "metadata": {},
   "source": [
    "The above code uses BeautifulSoup functions in oder to get the text contained between the tags `<table>...</table>` \n",
    "used in the Wikipedia page to build a table. See comments in the code to understand the various instructions. The database assumes that, if not otherwise specified, the 'Borough' coincides with the 'Neighbourhood'."
   ]
  },
  {
   "cell_type": "code",
   "execution_count": 2,
   "metadata": {},
   "outputs": [
    {
     "data": {
      "text/plain": [
       "(212, 3)"
      ]
     },
     "execution_count": 2,
     "metadata": {},
     "output_type": "execute_result"
    }
   ],
   "source": [
    "df_tor.shape"
   ]
  },
  {
   "cell_type": "markdown",
   "metadata": {},
   "source": [
    "#### 2. Add neighbourhood latitude and longitude to the database"
   ]
  },
  {
   "cell_type": "code",
   "execution_count": null,
   "metadata": {},
   "outputs": [],
   "source": [
    "#\n",
    "\n",
    "url_coord = 'http://cocl.us/Geospatial_data'\n",
    "df_tor2 = pd.merge(left=df_tor,right=pd.read_csv(url_coord), how='left', left_on='Postcode', right_on='Postal Code')\n",
    "df_tor2.drop('Postal Code',axis=1,inplace=True)\n",
    "df_tor2.rename(columns={'Postcode':'Postal Code'},inplace=True)"
   ]
  },
  {
   "cell_type": "markdown",
   "metadata": {},
   "source": [
    "The above code add latitude and longitude for each postal code by merging two databases. This is done since the geocode routine (install geocoder first)\n",
    "\n",
    "```python\n",
    "import geocoder \n",
    "lat_lng_coords = None\n",
    "while(lat_lng_coords == None):\n",
    "    g = geocoder.google('{}, Toronto, Ontario'.format(postal_code))\n",
    "    lat_lng_coords = g.latlng  \n",
    "print(lat_lng_coords)```\n",
    "\n",
    "does not work, as anticipated in the assignment instructions."
   ]
  },
  {
   "cell_type": "code",
   "execution_count": null,
   "metadata": {},
   "outputs": [],
   "source": [
    "df_tor2.head(12)"
   ]
  },
  {
   "cell_type": "code",
   "execution_count": null,
   "metadata": {},
   "outputs": [],
   "source": []
  },
  {
   "cell_type": "code",
   "execution_count": null,
   "metadata": {},
   "outputs": [],
   "source": []
  },
  {
   "cell_type": "code",
   "execution_count": null,
   "metadata": {},
   "outputs": [],
   "source": []
  },
  {
   "cell_type": "code",
   "execution_count": null,
   "metadata": {},
   "outputs": [],
   "source": []
  },
  {
   "cell_type": "code",
   "execution_count": null,
   "metadata": {},
   "outputs": [],
   "source": []
  },
  {
   "cell_type": "code",
   "execution_count": null,
   "metadata": {},
   "outputs": [],
   "source": [
    "\n"
   ]
  },
  {
   "cell_type": "code",
   "execution_count": null,
   "metadata": {},
   "outputs": [],
   "source": []
  }
 ],
 "metadata": {
  "kernelspec": {
   "display_name": "Python 3",
   "language": "python",
   "name": "python3"
  },
  "language_info": {
   "codemirror_mode": {
    "name": "ipython",
    "version": 3
   },
   "file_extension": ".py",
   "mimetype": "text/x-python",
   "name": "python",
   "nbconvert_exporter": "python",
   "pygments_lexer": "ipython3",
   "version": "3.6.5"
  }
 },
 "nbformat": 4,
 "nbformat_minor": 2
}
